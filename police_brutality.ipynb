{
 "cells": [
  {
   "cell_type": "code",
   "execution_count": 1,
   "metadata": {},
   "outputs": [],
   "source": [
    "# Important statistics to be considered before heading into the data analysis\n",
    "# black population as of july 2019: 0.134 * 328,239,523\n",
    "# total population as of july 2019: 328,239,523\n",
    "\n",
    "# 2010 black percent: 13.6 (2010 census report)\n",
    "# 2011\n",
    "\n",
    "import numpy as np\n",
    "import pandas as pd\n",
    "import matplotlib.pyplot as plt"
   ]
  },
  {
   "cell_type": "code",
   "execution_count": 2,
   "metadata": {},
   "outputs": [
    {
     "data": {
      "text/html": [
       "<div>\n",
       "<style scoped>\n",
       "    .dataframe tbody tr th:only-of-type {\n",
       "        vertical-align: middle;\n",
       "    }\n",
       "\n",
       "    .dataframe tbody tr th {\n",
       "        vertical-align: top;\n",
       "    }\n",
       "\n",
       "    .dataframe thead th {\n",
       "        text-align: right;\n",
       "    }\n",
       "</style>\n",
       "<table border=\"1\" class=\"dataframe\">\n",
       "  <thead>\n",
       "    <tr style=\"text-align: right;\">\n",
       "      <th></th>\n",
       "      <th>Victim's name</th>\n",
       "      <th>Victim's age</th>\n",
       "      <th>Victim's gender</th>\n",
       "      <th>Victim's race</th>\n",
       "      <th>URL of image of victim</th>\n",
       "      <th>Date of Incident (month/day/year)</th>\n",
       "      <th>Street Address of Incident</th>\n",
       "      <th>City</th>\n",
       "      <th>State</th>\n",
       "      <th>Zipcode</th>\n",
       "      <th>...</th>\n",
       "      <th>Symptoms of mental illness?</th>\n",
       "      <th>Unarmed</th>\n",
       "      <th>Alleged Weapon (Source: WaPo)</th>\n",
       "      <th>Alleged Threat Level (Source: WaPo)</th>\n",
       "      <th>Fleeing (Source: WaPo)</th>\n",
       "      <th>Body Camera (Source: WaPo)</th>\n",
       "      <th>WaPo ID (If included in WaPo database)</th>\n",
       "      <th>Off-Duty Killing?</th>\n",
       "      <th>Geography (via Trulia methodology based on zipcode population density: http://jedkolko.com/wp-content/uploads/2015/05/full-ZCTA-urban-suburban-rural-classification.xlsx )</th>\n",
       "      <th>ID</th>\n",
       "    </tr>\n",
       "  </thead>\n",
       "  <tbody>\n",
       "    <tr>\n",
       "      <th>0</th>\n",
       "      <td>Eric M. Tellez</td>\n",
       "      <td>28</td>\n",
       "      <td>Male</td>\n",
       "      <td>White</td>\n",
       "      <td>https://fatalencounters.org/wp-content/uploads...</td>\n",
       "      <td>2019-12-31</td>\n",
       "      <td>Broad St.</td>\n",
       "      <td>Globe</td>\n",
       "      <td>AZ</td>\n",
       "      <td>85501.0</td>\n",
       "      <td>...</td>\n",
       "      <td>No</td>\n",
       "      <td>Allegedly Armed</td>\n",
       "      <td>knife</td>\n",
       "      <td>other</td>\n",
       "      <td>not fleeing</td>\n",
       "      <td>no</td>\n",
       "      <td>5332.0</td>\n",
       "      <td>NaN</td>\n",
       "      <td>Rural</td>\n",
       "      <td>7664</td>\n",
       "    </tr>\n",
       "    <tr>\n",
       "      <th>1</th>\n",
       "      <td>Name withheld by police</td>\n",
       "      <td>NaN</td>\n",
       "      <td>Male</td>\n",
       "      <td>Unknown race</td>\n",
       "      <td>NaN</td>\n",
       "      <td>2019-12-31</td>\n",
       "      <td>7239-7411 I-40</td>\n",
       "      <td>Memphis</td>\n",
       "      <td>AR</td>\n",
       "      <td>38103.0</td>\n",
       "      <td>...</td>\n",
       "      <td>No</td>\n",
       "      <td>Unclear</td>\n",
       "      <td>unclear</td>\n",
       "      <td>other</td>\n",
       "      <td>NaN</td>\n",
       "      <td>NaN</td>\n",
       "      <td>NaN</td>\n",
       "      <td>NaN</td>\n",
       "      <td>Urban</td>\n",
       "      <td>7665</td>\n",
       "    </tr>\n",
       "    <tr>\n",
       "      <th>2</th>\n",
       "      <td>Terry Hudson</td>\n",
       "      <td>57</td>\n",
       "      <td>Male</td>\n",
       "      <td>Black</td>\n",
       "      <td>NaN</td>\n",
       "      <td>2019-12-31</td>\n",
       "      <td>3600 N 24th St</td>\n",
       "      <td>Omaha</td>\n",
       "      <td>NE</td>\n",
       "      <td>68110.0</td>\n",
       "      <td>...</td>\n",
       "      <td>No</td>\n",
       "      <td>Allegedly Armed</td>\n",
       "      <td>gun</td>\n",
       "      <td>attack</td>\n",
       "      <td>not fleeing</td>\n",
       "      <td>no</td>\n",
       "      <td>5359.0</td>\n",
       "      <td>NaN</td>\n",
       "      <td>Urban</td>\n",
       "      <td>7661</td>\n",
       "    </tr>\n",
       "    <tr>\n",
       "      <th>3</th>\n",
       "      <td>Malik Williams</td>\n",
       "      <td>23</td>\n",
       "      <td>Male</td>\n",
       "      <td>Black</td>\n",
       "      <td>NaN</td>\n",
       "      <td>2019-12-31</td>\n",
       "      <td>30800 14th Avenue South</td>\n",
       "      <td>Federal Way</td>\n",
       "      <td>WA</td>\n",
       "      <td>98003.0</td>\n",
       "      <td>...</td>\n",
       "      <td>No</td>\n",
       "      <td>Allegedly Armed</td>\n",
       "      <td>gun</td>\n",
       "      <td>attack</td>\n",
       "      <td>not fleeing</td>\n",
       "      <td>no</td>\n",
       "      <td>5358.0</td>\n",
       "      <td>NaN</td>\n",
       "      <td>Suburban</td>\n",
       "      <td>7662</td>\n",
       "    </tr>\n",
       "    <tr>\n",
       "      <th>4</th>\n",
       "      <td>Frederick Perkins</td>\n",
       "      <td>37</td>\n",
       "      <td>Male</td>\n",
       "      <td>Black</td>\n",
       "      <td>NaN</td>\n",
       "      <td>2019-12-31</td>\n",
       "      <td>17057 N Outer 40 Rd</td>\n",
       "      <td>Chesterfield</td>\n",
       "      <td>MO</td>\n",
       "      <td>63005.0</td>\n",
       "      <td>...</td>\n",
       "      <td>No</td>\n",
       "      <td>Vehicle</td>\n",
       "      <td>vehicle</td>\n",
       "      <td>attack</td>\n",
       "      <td>car</td>\n",
       "      <td>no</td>\n",
       "      <td>5333.0</td>\n",
       "      <td>NaN</td>\n",
       "      <td>Suburban</td>\n",
       "      <td>7667</td>\n",
       "    </tr>\n",
       "  </tbody>\n",
       "</table>\n",
       "<p>5 rows × 27 columns</p>\n",
       "</div>"
      ],
      "text/plain": [
       "             Victim's name Victim's age Victim's gender Victim's race  \\\n",
       "0           Eric M. Tellez           28            Male         White   \n",
       "1  Name withheld by police          NaN            Male  Unknown race   \n",
       "2             Terry Hudson           57            Male         Black   \n",
       "3           Malik Williams           23            Male         Black   \n",
       "4        Frederick Perkins           37            Male         Black   \n",
       "\n",
       "                              URL of image of victim  \\\n",
       "0  https://fatalencounters.org/wp-content/uploads...   \n",
       "1                                                NaN   \n",
       "2                                                NaN   \n",
       "3                                                NaN   \n",
       "4                                                NaN   \n",
       "\n",
       "  Date of Incident (month/day/year) Street Address of Incident          City  \\\n",
       "0                        2019-12-31                 Broad St.          Globe   \n",
       "1                        2019-12-31             7239-7411 I-40       Memphis   \n",
       "2                        2019-12-31             3600 N 24th St         Omaha   \n",
       "3                        2019-12-31    30800 14th Avenue South   Federal Way   \n",
       "4                        2019-12-31        17057 N Outer 40 Rd  Chesterfield   \n",
       "\n",
       "  State  Zipcode  ... Symptoms of mental illness?          Unarmed  \\\n",
       "0    AZ  85501.0  ...                          No  Allegedly Armed   \n",
       "1    AR  38103.0  ...                          No          Unclear   \n",
       "2    NE  68110.0  ...                          No  Allegedly Armed   \n",
       "3    WA  98003.0  ...                          No  Allegedly Armed   \n",
       "4    MO  63005.0  ...                          No          Vehicle   \n",
       "\n",
       "  Alleged Weapon (Source: WaPo) Alleged Threat Level (Source: WaPo)  \\\n",
       "0                         knife                               other   \n",
       "1                       unclear                               other   \n",
       "2                           gun                              attack   \n",
       "3                           gun                              attack   \n",
       "4                       vehicle                              attack   \n",
       "\n",
       "  Fleeing (Source: WaPo) Body Camera (Source: WaPo)  \\\n",
       "0            not fleeing                         no   \n",
       "1                    NaN                        NaN   \n",
       "2            not fleeing                         no   \n",
       "3            not fleeing                         no   \n",
       "4                    car                         no   \n",
       "\n",
       "  WaPo ID (If included in WaPo database) Off-Duty Killing?  \\\n",
       "0                                 5332.0               NaN   \n",
       "1                                    NaN               NaN   \n",
       "2                                 5359.0               NaN   \n",
       "3                                 5358.0               NaN   \n",
       "4                                 5333.0               NaN   \n",
       "\n",
       "  Geography (via Trulia methodology based on zipcode population density: http://jedkolko.com/wp-content/uploads/2015/05/full-ZCTA-urban-suburban-rural-classification.xlsx )  \\\n",
       "0                                              Rural                                                                                                                           \n",
       "1                                              Urban                                                                                                                           \n",
       "2                                              Urban                                                                                                                           \n",
       "3                                           Suburban                                                                                                                           \n",
       "4                                           Suburban                                                                                                                           \n",
       "\n",
       "     ID  \n",
       "0  7664  \n",
       "1  7665  \n",
       "2  7661  \n",
       "3  7662  \n",
       "4  7667  \n",
       "\n",
       "[5 rows x 27 columns]"
      ]
     },
     "execution_count": 2,
     "metadata": {},
     "output_type": "execute_result"
    }
   ],
   "source": [
    "dataset = pd.read_excel(\"MPVDatasetDownload.xlsx\")\n",
    "dataset.head()"
   ]
  },
  {
   "cell_type": "code",
   "execution_count": 3,
   "metadata": {},
   "outputs": [
    {
     "name": "stdout",
     "output_type": "stream",
     "text": [
      "7663\n"
     ]
    }
   ],
   "source": [
    "# drop rows that contain Nan values\n",
    "dataset = dataset[pd.notnull(dataset[\"Victim's race\"])]\n",
    "print(len(dataset))"
   ]
  },
  {
   "cell_type": "code",
   "execution_count": 13,
   "metadata": {},
   "outputs": [
    {
     "name": "stdout",
     "output_type": "stream",
     "text": [
      "5.357142857144511\n"
     ]
    },
    {
     "data": {
      "image/png": "[encoded data removed]",
      "text/plain": [
       "<Figure size 432x288 with 1 Axes>"
      ]
     },
     "metadata": {
      "needs_background": "light"
     },
     "output_type": "display_data"
    }
   ],
   "source": [
    "# AOI 1\n",
    "deaths_per_year = extract_deaths_from_year(dataset)\n",
    "x = np.array(range(2013, 2020))\n",
    "y = np.array(extract_deaths_from_year(dataset))\n",
    "\n",
    "m, b = np.polyfit(x, y, 1)\n",
    "print(m)\n",
    "plt.ylim(500, 2000)\n",
    "plt.plot(x, y, 'o')\n",
    "plt.plot(x, m*x + b)\n",
    "plt.title('Number of deaths vs Year')\n",
    "plt.xlabel('Year')\n",
    "plt.ylabel('Number of deaths')\n",
    "\n",
    "plt.savefig('aoi1.png')\n"
   ]
  },
  {
   "cell_type": "code",
   "execution_count": 7,
   "metadata": {},
   "outputs": [
    {
     "name": "stdout",
     "output_type": "stream",
     "text": [
      "1944\n",
      "670\n"
     ]
    },
    {
     "data": {
      "text/plain": [
       "0.25368654573926663"
      ]
     },
     "execution_count": 7,
     "metadata": {},
     "output_type": "execute_result"
    }
   ],
   "source": [
    "#AOI 2\n",
    "\n",
    "all_killings = len(dataset.index)\n",
    "black_killings = len(dataset.loc[dataset[\"Victim's race\"] == \"Black\"].index)\n",
    "unknown_killings = len(dataset.loc[dataset[\"Victim's race\"] == \"Unknown race\"].index)\n",
    "\n",
    "\n",
    "print(black_killings)\n",
    "print(unknown_killings)\n",
    "\n",
    "\n",
    "# percent of brutality cases resulting in death of black people\n",
    "black_killings/(all_killings)\n",
    "\n",
    "# 24-26% of all deaths, with a slight variance caused by the fact that this data does not inlcude\n",
    "# all instances of police brutality. If we say that approximately 25% of deaths were those of black\n",
    "# people, then we can see that there is an imbalance:\n"
   ]
  },
  {
   "cell_type": "code",
   "execution_count": 19,
   "metadata": {},
   "outputs": [
    {
     "name": "stderr",
     "output_type": "stream",
     "text": [
      "/Users/pavan/anaconda3/lib/python3.7/site-packages/ipykernel_launcher.py:12: SettingWithCopyWarning: \n",
      "A value is trying to be set on a copy of a slice from a DataFrame.\n",
      "Try using .loc[row_indexer,col_indexer] = value instead\n",
      "\n",
      "See the caveats in the documentation: http://pandas.pydata.org/pandas-docs/stable/indexing.html#indexing-view-versus-copy\n",
      "  if sys.path[0] == '':\n"
     ]
    },
    {
     "name": "stdout",
     "output_type": "stream",
     "text": [
      "[291, 277, 305, 279, 276, 257, 259]\n",
      "-5.892857142858154\n"
     ]
    },
    {
     "data": {
      "image/png": "[encoded data removed]",
      "text/plain": [
       "<Figure size 432x288 with 1 Axes>"
      ]
     },
     "metadata": {
      "needs_background": "light"
     },
     "output_type": "display_data"
    }
   ],
   "source": [
    "#AOI 3\n",
    "print(extract_black_deaths_from_year(dataset))\n",
    "deaths_per_year = extract_black_deaths_from_year(dataset)\n",
    "x = np.array(range(2013, 2020))\n",
    "y = np.array(extract_black_deaths_from_year(dataset))\n",
    "\n",
    "m, b = np.polyfit(x, y, 1)\n",
    "print(m)\n",
    "plt.ylim(100, 400)\n",
    "plt.plot(x, y, 'o')\n",
    "plt.plot(x, m*x + b)\n",
    "plt.title('Number of deaths vs Year')\n",
    "plt.xlabel('Year')\n",
    "plt.ylabel('Number of deaths')\n",
    "\n",
    "plt.savefig('aoi3.png')"
   ]
  },
  {
   "cell_type": "code",
   "execution_count": 16,
   "metadata": {},
   "outputs": [],
   "source": [
    "#AOI 1\n",
    "def extract_deaths_from_year(dataset):\n",
    "    dataset['year'] = pd.DatetimeIndex(dataset['Date of Incident (month/day/year)']).year\n",
    "    deaths = []\n",
    "    for i in range(2013,2020):\n",
    "        deaths.append(len(dataset.loc[dataset['year'] == i].index))\n",
    "    return deaths\n",
    "\n",
    "#AOI 3\n",
    "def extract_black_deaths_from_year(dataset):\n",
    "    adjusted_data = dataset.loc[dataset[\"Victim's race\"] == \"Black\"]\n",
    "    adjusted_data['year'] = pd.DatetimeIndex(adjusted_data['Date of Incident (month/day/year)']).year\n",
    "    deaths = []\n",
    "    for i in range(2013,2020):\n",
    "        deaths.append(len(adjusted_data.loc[adjusted_data['year'] == i].index))\n",
    "    return deaths"
   ]
  },
  {
   "cell_type": "code",
   "execution_count": 20,
   "metadata": {},
   "outputs": [],
   "source": [
    "# Day 2"
   ]
  },
  {
   "cell_type": "code",
   "execution_count": 31,
   "metadata": {},
   "outputs": [
    {
     "data": {
      "image/png": "[encoded data removed]",
      "text/plain": [
       "<Figure size 432x288 with 1 Axes>"
      ]
     },
     "metadata": {
      "needs_background": "light"
     },
     "output_type": "display_data"
    }
   ],
   "source": [
    "#AOI 1\n",
    "import matplotlib.patches as mpatches\n",
    "x = np.array([0.20, 0.35]) # black\n",
    "y = np.array([2, 2]) # multiple of population composition\n",
    "\n",
    "plt.plot(x, y, 'o')\n",
    "\n",
    "x = np.array([0.35, 0.50]) # white\n",
    "y = np.array([0.86, 0.86]) # multiple of population composition\n",
    "\n",
    "plt.plot(x, y, 'o')\n",
    "plt.title('Ratio of Arrest % to Population Composition % vs % Educated')\n",
    "plt.xlabel('% Educated')\n",
    "plt.ylabel('Ratio of Arrest % to Population Composition')\n",
    "plt.legend(handles = [mpatches.Patch(color='blue', label='Black population'), mpatches.Patch(color='orange', label='White population')])\n",
    "\n",
    "plt.savefig('day2aoi1.png')"
   ]
  },
  {
   "cell_type": "code",
   "execution_count": 33,
   "metadata": {},
   "outputs": [],
   "source": [
    "# AOI 2\n",
    "import numpy as np\n",
    "import pandas as pd\n",
    "import matplotlib.pyplot as plt"
   ]
  },
  {
   "cell_type": "code",
   "execution_count": 34,
   "metadata": {},
   "outputs": [],
   "source": [
    "dataset = pd.read_excel(\"MPVDatasetDownload.xlsx\")"
   ]
  },
  {
   "cell_type": "code",
   "execution_count": 37,
   "metadata": {},
   "outputs": [],
   "source": [
    "def extract_racial_entries(dataset, race):\n",
    "    return dataset.loc[dataset[\"Victim's race\"] == race]\n",
    "\n",
    "black_deaths = extract_racial_entries(dataset, \"Black\")\n",
    "non_black_deaths = dataset[dataset[\"Victim's race\"] != \"Black\"]"
   ]
  },
  {
   "cell_type": "code",
   "execution_count": 68,
   "metadata": {},
   "outputs": [
    {
     "name": "stdout",
     "output_type": "stream",
     "text": [
      "1944\n",
      "5719\n"
     ]
    }
   ],
   "source": [
    "print(len(black_deaths))\n",
    "print(len(non_black_deaths))"
   ]
  },
  {
   "cell_type": "code",
   "execution_count": 48,
   "metadata": {},
   "outputs": [
    {
     "name": "stdout",
     "output_type": "stream",
     "text": [
      "336\n",
      "737\n"
     ]
    }
   ],
   "source": [
    "black_unarmed = black_deaths[black_deaths[\"Unarmed\"] == \"Unarmed\"]\n",
    "len(black_unarmed)\n",
    "rest_unarmed = non_black_deaths[non_black_deaths[\"Unarmed\"] == \"Unarmed\"]\n",
    "print(len(black_unarmed))\n",
    "print(len(rest_unarmed))\n",
    "\n",
    "black_percent_unarmed = len(black_unarmed)/len(black_deaths)\n",
    "rest_percent_unaremd = len(rest_unarmed)/len(non_black_deaths)"
   ]
  },
  {
   "cell_type": "code",
   "execution_count": 49,
   "metadata": {},
   "outputs": [
    {
     "name": "stdout",
     "output_type": "stream",
     "text": [
      "0.1728395061728395\n",
      "0.1288686833362476\n"
     ]
    }
   ],
   "source": [
    "print(black_percent_unarmed)\n",
    "print(rest_percent_unaremd)"
   ]
  },
  {
   "cell_type": "code",
   "execution_count": 54,
   "metadata": {},
   "outputs": [],
   "source": [
    "def extract_unarmed_yearly_deaths_by_race(dataset, race):\n",
    "    adjusted_data = dataset[dataset[\"Victim's race\"] == race]\n",
    "    adjusted_data = adjusted_data[adjusted_data[\"Unarmed\"] == \"Unarmed\"]\n",
    "    adjusted_data['year'] = pd.DatetimeIndex(adjusted_data['Date of Incident (month/day/year)']).year\n",
    "    deaths = []\n",
    "    for i in range(2013,2020):\n",
    "        deaths.append(len(adjusted_data.loc[adjusted_data['year'] == i].index))\n",
    "    return deaths\n",
    "\n",
    "def extract_unarmed_yearly_deaths_by_all_except_race(dataset, race):\n",
    "    adjusted_data = dataset[dataset[\"Victim's race\"] != race]\n",
    "    adjusted_data = adjusted_data[adjusted_data[\"Unarmed\"] == \"Unarmed\"]\n",
    "    adjusted_data['year'] = pd.DatetimeIndex(adjusted_data['Date of Incident (month/day/year)']).year\n",
    "    deaths = []\n",
    "    for i in range(2013,2020):\n",
    "        deaths.append(len(adjusted_data.loc[adjusted_data['year'] == i].index))\n",
    "    return deaths"
   ]
  },
  {
   "cell_type": "code",
   "execution_count": 59,
   "metadata": {},
   "outputs": [
    {
     "name": "stdout",
     "output_type": "stream",
     "text": [
      "[50, 64, 78, 40, 48, 28, 28]\n",
      "[108, 117, 141, 109, 92, 84, 86]\n",
      "336\n",
      "737\n"
     ]
    }
   ],
   "source": [
    "print(extract_unarmed_yearly_deaths_by_race(dataset, \"Black\"))\n",
    "print(extract_unarmed_yearly_deaths_by_all_except_race(dataset, \"Black\"))\n",
    "\n",
    "percent_unarmed_black = [x / len(black_deaths) for x in extract_unarmed_yearly_deaths_by_race(dataset, \"Black\")]\n",
    "percent_unarmed_rest = [x / len(non_black_deaths) for x in extract_unarmed_yearly_deaths_by_all_except_race(dataset, \"Black\")]\n",
    "\n",
    "sum2 = 0\n",
    "sum1 = 0\n",
    "for i in range(len(extract_unarmed_yearly_deaths_by_all_except_race(dataset, \"Black\"))):\n",
    "    sum2 += extract_unarmed_yearly_deaths_by_all_except_race(dataset, \"Black\")[i]\n",
    "    sum1 += extract_unarmed_yearly_deaths_by_race(dataset, \"Black\")[i]\n",
    "    \n",
    "print(sum1)\n",
    "print(sum2)"
   ]
  },
  {
   "cell_type": "code",
   "execution_count": 66,
   "metadata": {},
   "outputs": [
    {
     "name": "stdout",
     "output_type": "stream",
     "text": [
      "-0.003086419753087242\n"
     ]
    },
    {
     "data": {
      "image/png": "[encoded data removed]",
      "text/plain": [
       "<Figure size 432x288 with 1 Axes>"
      ]
     },
     "metadata": {
      "needs_background": "light"
     },
     "output_type": "display_data"
    }
   ],
   "source": [
    "x = np.array(range(2013, 2020))\n",
    "y = np.array(percent_unarmed_black)\n",
    "\n",
    "m, b = np.polyfit(x, y, 1)\n",
    "print(m)\n",
    "plt.plot(x, y, 'o')\n",
    "plt.plot(x, m*x + b)\n",
    "plt.title('Percent of deaths where victim is unarmed vs Year (Black)')\n",
    "plt.xlabel('Year')\n",
    "plt.ylabel('Percent of deaths where victim is unarmed')\n",
    "\n",
    "plt.savefig('day2aoi21.png')"
   ]
  },
  {
   "cell_type": "code",
   "execution_count": 67,
   "metadata": {},
   "outputs": [
    {
     "name": "stdout",
     "output_type": "stream",
     "text": [
      "-0.001130317488072633\n"
     ]
    },
    {
     "data": {
      "image/png": "[encoded data removed]",
      "text/plain": [
       "<Figure size 432x288 with 1 Axes>"
      ]
     },
     "metadata": {
      "needs_background": "light"
     },
     "output_type": "display_data"
    }
   ],
   "source": [
    "x = np.array(range(2013, 2020))\n",
    "y = np.array(percent_unarmed_rest)\n",
    "\n",
    "m, b = np.polyfit(x, y, 1)\n",
    "print(m)\n",
    "plt.plot(x, y, 'o')\n",
    "plt.plot(x, m*x + b)\n",
    "plt.title('Percent of deaths where victim is unarmed vs Year (Rest)')\n",
    "plt.xlabel('Year')\n",
    "plt.ylabel('Percent of deaths where victim is unarmed')\n",
    "\n",
    "plt.savefig('day2aoi22.png')"
   ]
  },
  {
   "cell_type": "code",
   "execution_count": null,
   "metadata": {},
   "outputs": [],
   "source": []
  }
 ],
 "metadata": {
  "kernelspec": {
   "display_name": "Python 3",
   "language": "python",
   "name": "python3"
  },
  "language_info": {
   "codemirror_mode": {
    "name": "ipython",
    "version": 3
   },
   "file_extension": ".py",
   "mimetype": "text/x-python",
   "name": "python",
   "nbconvert_exporter": "python",
   "pygments_lexer": "ipython3",
   "version": "3.7.3"
  }
 },
 "nbformat": 4,
 "nbformat_minor": 2
}
